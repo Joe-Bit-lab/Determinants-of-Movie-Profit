{
 "cells": [
  {
   "cell_type": "code",
   "execution_count": 2,
   "metadata": {},
   "outputs": [],
   "source": [
    "import pandas as pd"
   ]
  },
  {
   "cell_type": "code",
   "execution_count": 3,
   "metadata": {},
   "outputs": [
    {
     "name": "stdout",
     "output_type": "stream",
     "text": [
      "Data Cleaning.ipynb       README.md\r\n",
      "Data Visualization.ipynb  \u001b[34mzippedData\u001b[m\u001b[m/\r\n"
     ]
    }
   ],
   "source": [
    "ls"
   ]
  },
  {
   "cell_type": "code",
   "execution_count": 4,
   "metadata": {},
   "outputs": [
    {
     "name": "stdout",
     "output_type": "stream",
     "text": [
      "/Users/josephmchugh/code/flatiron-project-1/zippedData\n"
     ]
    }
   ],
   "source": [
    "cd zippedData/"
   ]
  },
  {
   "cell_type": "code",
   "execution_count": 5,
   "metadata": {},
   "outputs": [],
   "source": [
    "movie_gross = pd.read_csv('bom.movie_gross.csv.gz')\n",
    "name_basics = pd.read_csv('imdb.name.basics.csv.gz')\n",
    "title_akas = pd.read_csv('imdb.title.akas.csv.gz')\n",
    "title_basics = pd.read_csv('imdb.title.basics.csv.gz')\n",
    "title_crew = pd.read_csv('imdb.title.crew.csv.gz')\n",
    "title_principles = pd.read_csv('imdb.title.principals.csv.gz')\n",
    "title_ratings = pd.read_csv('imdb.title.ratings.csv.gz')\n",
    "rt_movie_info = pd.read_csv('rt.movie_info.tsv.gz', sep='\\t')\n",
    "rt_reviews = pd.read_csv('rt.reviews.tsv.gz', sep='\\t', encoding = 'unicode_escape')\n",
    "tmdb_movies = pd.read_csv('tmdb.movies.csv.gz')\n",
    "movie_budgets = pd.read_csv('tn.movie_budgets.csv.gz')"
   ]
  },
  {
   "cell_type": "code",
   "execution_count": 6,
   "metadata": {},
   "outputs": [],
   "source": [
    "main_df = pd.DataFrame(movie_budgets['movie'])"
   ]
  },
  {
   "cell_type": "code",
   "execution_count": 7,
   "metadata": {},
   "outputs": [],
   "source": [
    "main_df['Production Budget'] = movie_budgets['production_budget']\n",
    "main_df['Domestic Gross'] = movie_budgets['domestic_gross']\n",
    "main_df['Worldwide Gross'] = movie_budgets['worldwide_gross']"
   ]
  },
  {
   "cell_type": "code",
   "execution_count": 8,
   "metadata": {},
   "outputs": [],
   "source": [
    "main_df = main_df.rename(columns={'movie':'Title'})"
   ]
  },
  {
   "cell_type": "code",
   "execution_count": 9,
   "metadata": {},
   "outputs": [],
   "source": [
    "title_basics = title_basics.rename(columns={'primary_title': 'Title'})"
   ]
  },
  {
   "cell_type": "code",
   "execution_count": 10,
   "metadata": {},
   "outputs": [],
   "source": [
    "main_df = pd.merge(main_df, title_basics, how='outer', on='Title')"
   ]
  },
  {
   "cell_type": "code",
   "execution_count": 11,
   "metadata": {},
   "outputs": [
    {
     "data": {
      "text/plain": [
       "5782"
      ]
     },
     "execution_count": 11,
     "metadata": {},
     "output_type": "execute_result"
    }
   ],
   "source": [
    "len(movie_budgets)"
   ]
  },
  {
   "cell_type": "code",
   "execution_count": 12,
   "metadata": {},
   "outputs": [],
   "source": [
    "main_df = main_df.head(5782)"
   ]
  },
  {
   "cell_type": "code",
   "execution_count": 13,
   "metadata": {},
   "outputs": [
    {
     "data": {
      "text/plain": [
       "5782"
      ]
     },
     "execution_count": 13,
     "metadata": {},
     "output_type": "execute_result"
    }
   ],
   "source": [
    "len(main_df)"
   ]
  },
  {
   "cell_type": "code",
   "execution_count": 14,
   "metadata": {},
   "outputs": [
    {
     "data": {
      "text/html": [
       "<div>\n",
       "<style scoped>\n",
       "    .dataframe tbody tr th:only-of-type {\n",
       "        vertical-align: middle;\n",
       "    }\n",
       "\n",
       "    .dataframe tbody tr th {\n",
       "        vertical-align: top;\n",
       "    }\n",
       "\n",
       "    .dataframe thead th {\n",
       "        text-align: right;\n",
       "    }\n",
       "</style>\n",
       "<table border=\"1\" class=\"dataframe\">\n",
       "  <thead>\n",
       "    <tr style=\"text-align: right;\">\n",
       "      <th></th>\n",
       "      <th>Title</th>\n",
       "      <th>Production Budget</th>\n",
       "      <th>Domestic Gross</th>\n",
       "      <th>Worldwide Gross</th>\n",
       "      <th>runtime_minutes</th>\n",
       "      <th>genres</th>\n",
       "    </tr>\n",
       "  </thead>\n",
       "  <tbody>\n",
       "    <tr>\n",
       "      <td>0</td>\n",
       "      <td>Avatar</td>\n",
       "      <td>$425,000,000</td>\n",
       "      <td>$760,507,625</td>\n",
       "      <td>$2,776,345,279</td>\n",
       "      <td>93.0</td>\n",
       "      <td>Horror</td>\n",
       "    </tr>\n",
       "    <tr>\n",
       "      <td>1</td>\n",
       "      <td>Pirates of the Caribbean: On Stranger Tides</td>\n",
       "      <td>$410,600,000</td>\n",
       "      <td>$241,063,875</td>\n",
       "      <td>$1,045,663,875</td>\n",
       "      <td>136.0</td>\n",
       "      <td>Action,Adventure,Fantasy</td>\n",
       "    </tr>\n",
       "    <tr>\n",
       "      <td>2</td>\n",
       "      <td>Dark Phoenix</td>\n",
       "      <td>$350,000,000</td>\n",
       "      <td>$42,762,350</td>\n",
       "      <td>$149,762,350</td>\n",
       "      <td>113.0</td>\n",
       "      <td>Action,Adventure,Sci-Fi</td>\n",
       "    </tr>\n",
       "    <tr>\n",
       "      <td>3</td>\n",
       "      <td>Avengers: Age of Ultron</td>\n",
       "      <td>$330,600,000</td>\n",
       "      <td>$459,005,868</td>\n",
       "      <td>$1,403,013,963</td>\n",
       "      <td>141.0</td>\n",
       "      <td>Action,Adventure,Sci-Fi</td>\n",
       "    </tr>\n",
       "    <tr>\n",
       "      <td>4</td>\n",
       "      <td>Star Wars Ep. VIII: The Last Jedi</td>\n",
       "      <td>$317,000,000</td>\n",
       "      <td>$620,181,382</td>\n",
       "      <td>$1,316,721,747</td>\n",
       "      <td>NaN</td>\n",
       "      <td>NaN</td>\n",
       "    </tr>\n",
       "    <tr>\n",
       "      <td>...</td>\n",
       "      <td>...</td>\n",
       "      <td>...</td>\n",
       "      <td>...</td>\n",
       "      <td>...</td>\n",
       "      <td>...</td>\n",
       "      <td>...</td>\n",
       "    </tr>\n",
       "    <tr>\n",
       "      <td>5777</td>\n",
       "      <td>Truth or Dare</td>\n",
       "      <td>$3,500,000</td>\n",
       "      <td>$41,411,015</td>\n",
       "      <td>$95,127,344</td>\n",
       "      <td>100.0</td>\n",
       "      <td>Horror,Thriller</td>\n",
       "    </tr>\n",
       "    <tr>\n",
       "      <td>5778</td>\n",
       "      <td>Truth or Dare</td>\n",
       "      <td>$3,500,000</td>\n",
       "      <td>$41,411,015</td>\n",
       "      <td>$95,127,344</td>\n",
       "      <td>92.0</td>\n",
       "      <td>Comedy,Drama,Romance</td>\n",
       "    </tr>\n",
       "    <tr>\n",
       "      <td>5779</td>\n",
       "      <td>Menace II Society</td>\n",
       "      <td>$3,500,000</td>\n",
       "      <td>$27,731,527</td>\n",
       "      <td>$27,731,527</td>\n",
       "      <td>NaN</td>\n",
       "      <td>NaN</td>\n",
       "    </tr>\n",
       "    <tr>\n",
       "      <td>5780</td>\n",
       "      <td>Friday</td>\n",
       "      <td>$3,500,000</td>\n",
       "      <td>$27,467,564</td>\n",
       "      <td>$27,936,778</td>\n",
       "      <td>117.0</td>\n",
       "      <td>Family</td>\n",
       "    </tr>\n",
       "    <tr>\n",
       "      <td>5781</td>\n",
       "      <td>The Witch</td>\n",
       "      <td>$3,500,000</td>\n",
       "      <td>$25,138,705</td>\n",
       "      <td>$40,454,520</td>\n",
       "      <td>92.0</td>\n",
       "      <td>Horror,Mystery</td>\n",
       "    </tr>\n",
       "  </tbody>\n",
       "</table>\n",
       "<p>5782 rows × 6 columns</p>\n",
       "</div>"
      ],
      "text/plain": [
       "                                            Title Production Budget  \\\n",
       "0                                          Avatar      $425,000,000   \n",
       "1     Pirates of the Caribbean: On Stranger Tides      $410,600,000   \n",
       "2                                    Dark Phoenix      $350,000,000   \n",
       "3                         Avengers: Age of Ultron      $330,600,000   \n",
       "4               Star Wars Ep. VIII: The Last Jedi      $317,000,000   \n",
       "...                                           ...               ...   \n",
       "5777                                Truth or Dare        $3,500,000   \n",
       "5778                                Truth or Dare        $3,500,000   \n",
       "5779                            Menace II Society        $3,500,000   \n",
       "5780                                       Friday        $3,500,000   \n",
       "5781                                    The Witch        $3,500,000   \n",
       "\n",
       "     Domestic Gross Worldwide Gross  runtime_minutes                    genres  \n",
       "0      $760,507,625  $2,776,345,279             93.0                    Horror  \n",
       "1      $241,063,875  $1,045,663,875            136.0  Action,Adventure,Fantasy  \n",
       "2       $42,762,350    $149,762,350            113.0   Action,Adventure,Sci-Fi  \n",
       "3      $459,005,868  $1,403,013,963            141.0   Action,Adventure,Sci-Fi  \n",
       "4      $620,181,382  $1,316,721,747              NaN                       NaN  \n",
       "...             ...             ...              ...                       ...  \n",
       "5777    $41,411,015     $95,127,344            100.0           Horror,Thriller  \n",
       "5778    $41,411,015     $95,127,344             92.0      Comedy,Drama,Romance  \n",
       "5779    $27,731,527     $27,731,527              NaN                       NaN  \n",
       "5780    $27,467,564     $27,936,778            117.0                    Family  \n",
       "5781    $25,138,705     $40,454,520             92.0            Horror,Mystery  \n",
       "\n",
       "[5782 rows x 6 columns]"
      ]
     },
     "execution_count": 14,
     "metadata": {},
     "output_type": "execute_result"
    }
   ],
   "source": [
    "main_df.drop(columns = ['tconst','original_title','start_year'])"
   ]
  },
  {
   "cell_type": "code",
   "execution_count": 15,
   "metadata": {},
   "outputs": [],
   "source": [
    "main_df = main_df.dropna(subset=['genres'])"
   ]
  },
  {
   "cell_type": "code",
   "execution_count": 16,
   "metadata": {},
   "outputs": [],
   "source": [
    "main_df = main_df.reset_index()"
   ]
  },
  {
   "cell_type": "code",
   "execution_count": 31,
   "metadata": {},
   "outputs": [],
   "source": [
    "main_df = main_df.drop(columns = ['tconst','original_title'])"
   ]
  },
  {
   "cell_type": "code",
   "execution_count": 34,
   "metadata": {},
   "outputs": [],
   "source": [
    "# main_df['Production Budget'] = main_df['Production Budget'].apply(lambda x: x.strip('$'))\n",
    "# main_df['Domestic Gross'] = main_df['Domestic Gross'].apply(lambda x: x.strip('$'))\n",
    "# main_df['Worldwide Gross'] = main_df['Worldwide Gross'].apply(lambda x: x.strip('$'))\n",
    "# main_df['Production Budget'] = main_df['Production Budget'].apply(lambda x: x.replace(',',''))\n",
    "# main_df['Domestic Gross'] = main_df['Domestic Gross'].apply(lambda x: x.replace(',',''))\n",
    "# main_df['Worldwide Gross'] = main_df['Worldwide Gross'].apply(lambda x: x.replace(',',''))\n",
    "# main_df['Production Budget'] = main_df['Production Budget'].astype('int')\n",
    "# main_df['Domestic Gross'] = main_df['Domestic Gross'].astype('int')\n",
    "# main_df['Worldwide Gross'] = main_df['Worldwide Gross'].astype('int')"
   ]
  },
  {
   "cell_type": "code",
   "execution_count": 35,
   "metadata": {},
   "outputs": [
    {
     "data": {
      "text/html": [
       "<div>\n",
       "<style scoped>\n",
       "    .dataframe tbody tr th:only-of-type {\n",
       "        vertical-align: middle;\n",
       "    }\n",
       "\n",
       "    .dataframe tbody tr th {\n",
       "        vertical-align: top;\n",
       "    }\n",
       "\n",
       "    .dataframe thead th {\n",
       "        text-align: right;\n",
       "    }\n",
       "</style>\n",
       "<table border=\"1\" class=\"dataframe\">\n",
       "  <thead>\n",
       "    <tr style=\"text-align: right;\">\n",
       "      <th></th>\n",
       "      <th>Title</th>\n",
       "      <th>Production Budget</th>\n",
       "      <th>Domestic Gross</th>\n",
       "      <th>Worldwide Gross</th>\n",
       "      <th>start_year</th>\n",
       "      <th>runtime_minutes</th>\n",
       "      <th>genres</th>\n",
       "    </tr>\n",
       "  </thead>\n",
       "  <tbody>\n",
       "    <tr>\n",
       "      <td>0</td>\n",
       "      <td>Avatar</td>\n",
       "      <td>425000000</td>\n",
       "      <td>760507625</td>\n",
       "      <td>2776345279</td>\n",
       "      <td>2011.0</td>\n",
       "      <td>93.0</td>\n",
       "      <td>Horror</td>\n",
       "    </tr>\n",
       "    <tr>\n",
       "      <td>1</td>\n",
       "      <td>Pirates of the Caribbean: On Stranger Tides</td>\n",
       "      <td>410600000</td>\n",
       "      <td>241063875</td>\n",
       "      <td>1045663875</td>\n",
       "      <td>2011.0</td>\n",
       "      <td>136.0</td>\n",
       "      <td>Action,Adventure,Fantasy</td>\n",
       "    </tr>\n",
       "    <tr>\n",
       "      <td>2</td>\n",
       "      <td>Dark Phoenix</td>\n",
       "      <td>350000000</td>\n",
       "      <td>42762350</td>\n",
       "      <td>149762350</td>\n",
       "      <td>2019.0</td>\n",
       "      <td>113.0</td>\n",
       "      <td>Action,Adventure,Sci-Fi</td>\n",
       "    </tr>\n",
       "    <tr>\n",
       "      <td>3</td>\n",
       "      <td>Avengers: Age of Ultron</td>\n",
       "      <td>330600000</td>\n",
       "      <td>459005868</td>\n",
       "      <td>1403013963</td>\n",
       "      <td>2015.0</td>\n",
       "      <td>141.0</td>\n",
       "      <td>Action,Adventure,Sci-Fi</td>\n",
       "    </tr>\n",
       "    <tr>\n",
       "      <td>4</td>\n",
       "      <td>Avengers: Infinity War</td>\n",
       "      <td>300000000</td>\n",
       "      <td>678815482</td>\n",
       "      <td>2048134200</td>\n",
       "      <td>2018.0</td>\n",
       "      <td>149.0</td>\n",
       "      <td>Action,Adventure,Sci-Fi</td>\n",
       "    </tr>\n",
       "    <tr>\n",
       "      <td>...</td>\n",
       "      <td>...</td>\n",
       "      <td>...</td>\n",
       "      <td>...</td>\n",
       "      <td>...</td>\n",
       "      <td>...</td>\n",
       "      <td>...</td>\n",
       "      <td>...</td>\n",
       "    </tr>\n",
       "    <tr>\n",
       "      <td>2979</td>\n",
       "      <td>Truth or Dare</td>\n",
       "      <td>3500000</td>\n",
       "      <td>41411015</td>\n",
       "      <td>95127344</td>\n",
       "      <td>2016.0</td>\n",
       "      <td>90.0</td>\n",
       "      <td>Drama,Romance</td>\n",
       "    </tr>\n",
       "    <tr>\n",
       "      <td>2980</td>\n",
       "      <td>Truth or Dare</td>\n",
       "      <td>3500000</td>\n",
       "      <td>41411015</td>\n",
       "      <td>95127344</td>\n",
       "      <td>2018.0</td>\n",
       "      <td>100.0</td>\n",
       "      <td>Horror,Thriller</td>\n",
       "    </tr>\n",
       "    <tr>\n",
       "      <td>2981</td>\n",
       "      <td>Truth or Dare</td>\n",
       "      <td>3500000</td>\n",
       "      <td>41411015</td>\n",
       "      <td>95127344</td>\n",
       "      <td>2018.0</td>\n",
       "      <td>92.0</td>\n",
       "      <td>Comedy,Drama,Romance</td>\n",
       "    </tr>\n",
       "    <tr>\n",
       "      <td>2982</td>\n",
       "      <td>Friday</td>\n",
       "      <td>3500000</td>\n",
       "      <td>27467564</td>\n",
       "      <td>27936778</td>\n",
       "      <td>2012.0</td>\n",
       "      <td>117.0</td>\n",
       "      <td>Family</td>\n",
       "    </tr>\n",
       "    <tr>\n",
       "      <td>2983</td>\n",
       "      <td>The Witch</td>\n",
       "      <td>3500000</td>\n",
       "      <td>25138705</td>\n",
       "      <td>40454520</td>\n",
       "      <td>2015.0</td>\n",
       "      <td>92.0</td>\n",
       "      <td>Horror,Mystery</td>\n",
       "    </tr>\n",
       "  </tbody>\n",
       "</table>\n",
       "<p>2984 rows × 7 columns</p>\n",
       "</div>"
      ],
      "text/plain": [
       "                                            Title  Production Budget  \\\n",
       "0                                          Avatar          425000000   \n",
       "1     Pirates of the Caribbean: On Stranger Tides          410600000   \n",
       "2                                    Dark Phoenix          350000000   \n",
       "3                         Avengers: Age of Ultron          330600000   \n",
       "4                          Avengers: Infinity War          300000000   \n",
       "...                                           ...                ...   \n",
       "2979                                Truth or Dare            3500000   \n",
       "2980                                Truth or Dare            3500000   \n",
       "2981                                Truth or Dare            3500000   \n",
       "2982                                       Friday            3500000   \n",
       "2983                                    The Witch            3500000   \n",
       "\n",
       "      Domestic Gross  Worldwide Gross  start_year  runtime_minutes  \\\n",
       "0          760507625       2776345279      2011.0             93.0   \n",
       "1          241063875       1045663875      2011.0            136.0   \n",
       "2           42762350        149762350      2019.0            113.0   \n",
       "3          459005868       1403013963      2015.0            141.0   \n",
       "4          678815482       2048134200      2018.0            149.0   \n",
       "...              ...              ...         ...              ...   \n",
       "2979        41411015         95127344      2016.0             90.0   \n",
       "2980        41411015         95127344      2018.0            100.0   \n",
       "2981        41411015         95127344      2018.0             92.0   \n",
       "2982        27467564         27936778      2012.0            117.0   \n",
       "2983        25138705         40454520      2015.0             92.0   \n",
       "\n",
       "                        genres  \n",
       "0                       Horror  \n",
       "1     Action,Adventure,Fantasy  \n",
       "2      Action,Adventure,Sci-Fi  \n",
       "3      Action,Adventure,Sci-Fi  \n",
       "4      Action,Adventure,Sci-Fi  \n",
       "...                        ...  \n",
       "2979             Drama,Romance  \n",
       "2980           Horror,Thriller  \n",
       "2981      Comedy,Drama,Romance  \n",
       "2982                    Family  \n",
       "2983            Horror,Mystery  \n",
       "\n",
       "[2984 rows x 7 columns]"
      ]
     },
     "execution_count": 35,
     "metadata": {},
     "output_type": "execute_result"
    }
   ],
   "source": [
    "main_df"
   ]
  },
  {
   "cell_type": "code",
   "execution_count": 36,
   "metadata": {},
   "outputs": [
    {
     "data": {
      "text/plain": [
       "Drama                              375\n",
       "Documentary                        210\n",
       "Comedy                             109\n",
       "Comedy,Drama                        81\n",
       "Drama,Romance                       72\n",
       "                                  ... \n",
       "Adventure,Horror,Mystery             1\n",
       "Adventure,Biography,Documentary      1\n",
       "Family,Fantasy,Music                 1\n",
       "Comedy,Horror,Mystery                1\n",
       "Biography,Family,Sport               1\n",
       "Name: genres, Length: 322, dtype: int64"
      ]
     },
     "execution_count": 36,
     "metadata": {},
     "output_type": "execute_result"
    }
   ],
   "source": [
    "main_df['genres'].value_counts()"
   ]
  },
  {
   "cell_type": "code",
   "execution_count": null,
   "metadata": {},
   "outputs": [],
   "source": []
  }
 ],
 "metadata": {
  "kernelspec": {
   "display_name": "Python 3",
   "language": "python",
   "name": "python3"
  },
  "language_info": {
   "codemirror_mode": {
    "name": "ipython",
    "version": 3
   },
   "file_extension": ".py",
   "mimetype": "text/x-python",
   "name": "python",
   "nbconvert_exporter": "python",
   "pygments_lexer": "ipython3",
   "version": "3.7.4"
  }
 },
 "nbformat": 4,
 "nbformat_minor": 2
}
