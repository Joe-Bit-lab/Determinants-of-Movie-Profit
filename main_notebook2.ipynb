{
 "cells": [
  {
   "cell_type": "code",
   "execution_count": 1,
   "metadata": {},
   "outputs": [],
   "source": [
    "import pandas as pd\n",
    "import numpy as np\n",
    "import matplotlib.pyplot as plt\n",
    "pd.set_option('display.max_rows', None)\n",
    "pd.set_option('display.max_columns', None)\n",
    "pd.set_option('display.width', None)\n",
    "pd.set_option('display.max_colwidth', -1)"
   ]
  },
  {
   "cell_type": "code",
   "execution_count": 2,
   "metadata": {},
   "outputs": [
    {
     "name": "stdout",
     "output_type": "stream",
     "text": [
      "/Users/viviandang/code/Git Repositories/flatiron-project-1/zippedData\n"
     ]
    }
   ],
   "source": [
    "cd zippedData/"
   ]
  },
  {
   "cell_type": "code",
   "execution_count": 3,
   "metadata": {},
   "outputs": [],
   "source": [
    "#importing datasets\n",
    "title_basics = pd.read_csv('imdb.title.basics.csv.gz')\n",
    "movie_budgets = pd.read_csv('tn.movie_budgets.csv.gz')"
   ]
  },
  {
   "cell_type": "code",
   "execution_count": 4,
   "metadata": {},
   "outputs": [],
   "source": [
    "#creating main dataframe\n",
    "main_df = pd.DataFrame(movie_budgets['movie'])"
   ]
  },
  {
   "cell_type": "code",
   "execution_count": 5,
   "metadata": {},
   "outputs": [],
   "source": [
    "#populating main dataframe from 'movie_budgets' dataset\n",
    "main_df['Production Budget'] = movie_budgets['production_budget']\n",
    "main_df['Worldwide Gross'] = movie_budgets['worldwide_gross']"
   ]
  },
  {
   "cell_type": "code",
   "execution_count": 6,
   "metadata": {},
   "outputs": [],
   "source": [
    "#renaming columns\n",
    "main_df = main_df.rename(columns={'movie':'Title'})\n",
    "title_basics = title_basics.rename(columns={'primary_title': 'Title'})"
   ]
  },
  {
   "cell_type": "code",
   "execution_count": 7,
   "metadata": {},
   "outputs": [],
   "source": [
    "#merging 'title_baiscs' dataset with main dataframe\n",
    "main_df = pd.merge(main_df, title_basics, how='outer', on='Title')"
   ]
  },
  {
   "cell_type": "code",
   "execution_count": 8,
   "metadata": {},
   "outputs": [],
   "source": [
    "#trimming size of dataframe to first 5782 rows (number of rows with financial data)\n",
    "main_df = main_df.head(5782)"
   ]
  },
  {
   "cell_type": "code",
   "execution_count": 9,
   "metadata": {},
   "outputs": [],
   "source": [
    "#dropping uneccessary columns\n",
    "main_df = main_df.drop(columns = ['tconst','original_title','start_year'])"
   ]
  },
  {
   "cell_type": "code",
   "execution_count": 10,
   "metadata": {},
   "outputs": [],
   "source": [
    "#dropping null values from 'genres column'\n",
    "main_df = main_df.dropna(subset=['genres'])\n",
    "main_df = main_df.dropna(subset=['runtime_minutes'])"
   ]
  },
  {
   "cell_type": "code",
   "execution_count": 11,
   "metadata": {},
   "outputs": [],
   "source": [
    "#resetting the index\n",
    "main_df = main_df.reset_index()"
   ]
  },
  {
   "cell_type": "code",
   "execution_count": 12,
   "metadata": {},
   "outputs": [],
   "source": [
    "#dropping old index \n",
    "main_df = main_df.drop(columns = ['index'])"
   ]
  },
  {
   "cell_type": "code",
   "execution_count": 13,
   "metadata": {},
   "outputs": [],
   "source": [
    "#removing '$' and ',' from financial data\n",
    "main_df[\"Production Budget\"] = main_df[\"Production Budget\"].apply(lambda x: x.strip(\"$\"))\n",
    "main_df[\"Production Budget\"] = main_df[\"Production Budget\"].apply(lambda x: x.replace(\",\",\"\"))\n",
    "main_df[\"Worldwide Gross\"] = main_df[\"Worldwide Gross\"].apply(lambda x: x.strip(\"$\"))\n",
    "main_df[\"Worldwide Gross\"] = main_df[\"Worldwide Gross\"].apply(lambda x: x.replace(\",\",\"\"))"
   ]
  },
  {
   "cell_type": "code",
   "execution_count": 14,
   "metadata": {},
   "outputs": [],
   "source": [
    "#converting financial data to type(int)\n",
    "main_df[\"Production Budget\"] = main_df[\"Production Budget\"].astype(int)\n",
    "main_df[\"Worldwide Gross\"] = main_df[\"Worldwide Gross\"].astype(int)"
   ]
  },
  {
   "cell_type": "code",
   "execution_count": 15,
   "metadata": {},
   "outputs": [],
   "source": [
    "#correcting Avatar runtime & genre\n",
    "main_df.loc[(main_df['Title'] == 'Avatar'), ['runtime_minutes']] = 162\n",
    "main_df.loc[(main_df['Title'] == 'Avatar'), ['genres']] = 'Action, Adventure, Sci-Fi'"
   ]
  },
  {
   "cell_type": "code",
   "execution_count": 16,
   "metadata": {},
   "outputs": [],
   "source": [
    "main_df[\"Profit\"] = main_df[\"Worldwide Gross\"] - main_df[\"Production Budget\"] "
   ]
  },
  {
   "cell_type": "code",
   "execution_count": 17,
   "metadata": {},
   "outputs": [],
   "source": [
    "#Adding commas to numbers for clarity\n",
    "# main_df['Production Budget'] = main_df['Production Budget'].apply(lambda x: format(x, '8,d'))\n",
    "# main_df['Domestic Gross'] = main_df['Domestic Gross'].apply(lambda x: format(x, '8,d'))\n",
    "# # main_df['Worldwide Gross'] = main_df['Worldwide Gross'].apply(lambda x: format(x, '8,d'))\n",
    "# main_df['Profit'] = main_df['Profit'].apply(lambda x: format(x, '8,d'))"
   ]
  },
  {
   "cell_type": "code",
   "execution_count": 18,
   "metadata": {},
   "outputs": [],
   "source": [
    "#removing title duplicates\n",
    "main_df = main_df.drop_duplicates(subset=\"Title\", keep=\"first\")"
   ]
  },
  {
   "cell_type": "code",
   "execution_count": 19,
   "metadata": {},
   "outputs": [
    {
     "data": {
      "text/plain": [
       "274"
      ]
     },
     "execution_count": 19,
     "metadata": {},
     "output_type": "execute_result"
    }
   ],
   "source": [
    "#ascertaining number of unique genres\n",
    "main_df[\"genres\"].nunique() "
   ]
  },
  {
   "cell_type": "code",
   "execution_count": 20,
   "metadata": {},
   "outputs": [],
   "source": [
    "#sorting dataframe by profit in descending order\n",
    "main_df = main_df.sort_values(by=['Profit'], ascending = False)"
   ]
  },
  {
   "cell_type": "code",
   "execution_count": 21,
   "metadata": {},
   "outputs": [],
   "source": [
    "#the next 4 rows are used to group dataframe by genre and find the mean profit\n",
    "freq_genres = main_df['genres'].value_counts()\n",
    "freq_genres_list = list(freq_genres.head(12).keys())"
   ]
  },
  {
   "cell_type": "code",
   "execution_count": 22,
   "metadata": {},
   "outputs": [],
   "source": [
    "main_df_genres = []\n",
    "for n in freq_genres_list:\n",
    "    main_df_genres.append(main_df.loc[(main_df['genres'] == n)])"
   ]
  },
  {
   "cell_type": "code",
   "execution_count": 23,
   "metadata": {},
   "outputs": [],
   "source": [
    "main_df_genres = pd.concat(main_df_genres)"
   ]
  },
  {
   "cell_type": "code",
   "execution_count": 24,
   "metadata": {},
   "outputs": [],
   "source": [
    "genres_profit = main_df_genres.groupby(main_df['genres']).mean()"
   ]
  },
  {
   "cell_type": "code",
   "execution_count": 25,
   "metadata": {},
   "outputs": [],
   "source": [
    "genres_profit = genres_profit.sort_values(by='Profit',ascending=False)"
   ]
  },
  {
   "cell_type": "code",
   "execution_count": 26,
   "metadata": {},
   "outputs": [
    {
     "data": {
      "image/png": "[encoded data removed]",
      "text/plain": [
       "<Figure size 720x432 with 1 Axes>"
      ]
     },
     "metadata": {
      "needs_background": "light"
     },
     "output_type": "display_data"
    }
   ],
   "source": [
    "import matplotlib.pyplot as plt\n",
    "%matplotlib inline\n",
    "\n",
    "x = genres_profit.index\n",
    "y = genres_profit['Profit']\n",
    "\n",
    "fig = plt.figure(figsize=(10, 6))\n",
    "ax = plt.subplot()\n",
    "\n",
    "plt.bar(x,y)\n",
    "\n",
    "ax.set_xticks(range(len(x)))\n",
    "ax.set_xticklabels(x)\n",
    "plt.xticks(rotation=90)\n",
    "plt.title('Mean Profit by Genre')\n",
    "plt.xlabel('Genres')\n",
    "plt.ylabel('Profit (Hundreds of Millions)')\n",
    "plt.show()"
   ]
  },
  {
   "cell_type": "code",
   "execution_count": 27,
   "metadata": {},
   "outputs": [],
   "source": [
    "#creating a new dataframe for just action, adventure, sci-fi movies\n",
    "act_adv_sci = main_df.loc[(main_df['genres'] == 'Action,Adventure,Sci-Fi'),['Title','Production Budget','Worldwide Gross','runtime_minutes','Profit']]"
   ]
  },
  {
   "cell_type": "code",
   "execution_count": 28,
   "metadata": {},
   "outputs": [],
   "source": [
    "act_adv_sci = act_adv_sci.reset_index()\n",
    "act_adv_sci = act_adv_sci.drop(columns=['index'])"
   ]
  },
  {
   "cell_type": "code",
   "execution_count": 29,
   "metadata": {},
   "outputs": [],
   "source": [
    "#sorting by profit\n",
    "act_adv_sci = act_adv_sci.sort_values(by = 'Profit', ascending = True)"
   ]
  },
  {
   "cell_type": "code",
   "execution_count": 30,
   "metadata": {},
   "outputs": [],
   "source": [
    "#preparing for scatter plot \n",
    "import math\n",
    "\n",
    "def mean_normalize(var):\n",
    "    norm = []\n",
    "    mean = sum(var)/len(var)\n",
    "    for i in var:\n",
    "        diff = i - mean\n",
    "        norm.append(diff)\n",
    "    return norm\n",
    "\n",
    "def dot_product(x, y):\n",
    "\n",
    "    prod_vec = 0 \n",
    "    for i in range(len(x)):\n",
    "        prod = x[i]* y[i]\n",
    "        prod_vec += prod\n",
    "    return prod_vec\n",
    "\n",
    "def correlation(var1, var2):\n",
    "    if len(var1) != len(var2):\n",
    "        return 'The lengths of both the lists should be equal.' \n",
    "    else: \n",
    "        mean_norm_var1 = mean_normalize(var1)\n",
    "        mean_norm_var2 = mean_normalize(var2)\n",
    "        var1_dot_var2 = dot_product(mean_norm_var1, mean_norm_var2)\n",
    "        var1_squared = [i * i for i in mean_norm_var1]\n",
    "        var2_squared = [i * i for i in mean_norm_var2]\n",
    "    return round(var1_dot_var2 / math.sqrt(sum(var1_squared) * sum(var2_squared)), 2)"
   ]
  },
  {
   "cell_type": "code",
   "execution_count": 31,
   "metadata": {
    "scrolled": true
   },
   "outputs": [
    {
     "data": {
      "image/png": "[encoded data removed]",
      "text/plain": [
       "<Figure size 1080x720 with 1 Axes>"
      ]
     },
     "metadata": {
      "needs_background": "light"
     },
     "output_type": "display_data"
    },
    {
     "data": {
      "text/plain": [
       "0.57"
      ]
     },
     "execution_count": 31,
     "metadata": {},
     "output_type": "execute_result"
    }
   ],
   "source": [
    "#preparing for regression line\n",
    "import numpy as np\n",
    "from statistics import mean\n",
    "import numpy as np\n",
    "\n",
    "xs = np.array(act_adv_sci['runtime_minutes'], dtype=np.float64)\n",
    "ys = np.array(act_adv_sci['Profit'], dtype=np.float64)\n",
    "\n",
    "def best_fit_slope_and_intercept(xs,ys):\n",
    "    m = (((mean(xs)*mean(ys)) - mean(xs*ys)) /\n",
    "         ((mean(xs)*mean(xs)) - mean(xs*xs)))\n",
    "    b = mean(ys) - m*mean(xs)\n",
    "    return m, b\n",
    "\n",
    "m, b = best_fit_slope_and_intercept(xs,ys)\n",
    "regression_line = [(m*x)+b for x in xs]\n",
    "\n",
    "x = act_adv_sci['runtime_minutes']\n",
    "y = act_adv_sci['Profit']\n",
    "fig = plt.figure(figsize=(15, 10))\n",
    "ax = plt.subplot()\n",
    "plt.plot(xs,regression_line, 'r')\n",
    "# Plot\n",
    "plt.scatter(x, y)\n",
    "plt.title('Profit Vs Runtime')\n",
    "plt.xlabel('Runtime (Minutes)')\n",
    "plt.ylabel('Profit (Hundreds of Millions)')\n",
    "plt.show()\n",
    "correlation(x,y)"
   ]
  },
  {
   "cell_type": "code",
   "execution_count": 32,
   "metadata": {},
   "outputs": [
    {
     "data": {
      "text/plain": [
       "{'whiskers': [<matplotlib.lines.Line2D at 0x11aa7a090>,\n",
       "  <matplotlib.lines.Line2D at 0x11aa7f290>],\n",
       " 'caps': [<matplotlib.lines.Line2D at 0x11aa7f790>,\n",
       "  <matplotlib.lines.Line2D at 0x11aa7fc90>],\n",
       " 'boxes': [<matplotlib.lines.Line2D at 0x11aa7a050>],\n",
       " 'medians': [<matplotlib.lines.Line2D at 0x11aa85210>],\n",
       " 'fliers': [<matplotlib.lines.Line2D at 0x11aa85710>],\n",
       " 'means': []}"
      ]
     },
     "execution_count": 32,
     "metadata": {},
     "output_type": "execute_result"
    },
    {
     "data": {
      "image/png": "[encoded data removed]",
      "text/plain": [
       "<Figure size 432x288 with 1 Axes>"
      ]
     },
     "metadata": {
      "needs_background": "light"
     },
     "output_type": "display_data"
    }
   ],
   "source": [
    "#creating a whisker plot to see runtime distribution\n",
    "fig6, ax6 = plt.subplots()\n",
    "ax6.set_title('Runtime Distribution')\n",
    "ax6.boxplot(act_adv_sci['runtime_minutes'], vert=False, whis=0.75)\n"
   ]
  },
  {
   "cell_type": "code",
   "execution_count": 33,
   "metadata": {
    "scrolled": true
   },
   "outputs": [
    {
     "data": {
      "image/png": "[encoded data removed]",
      "text/plain": [
       "<Figure size 1080x720 with 1 Axes>"
      ]
     },
     "metadata": {
      "needs_background": "light"
     },
     "output_type": "display_data"
    },
    {
     "data": {
      "text/plain": [
       "0.4"
      ]
     },
     "execution_count": 33,
     "metadata": {},
     "output_type": "execute_result"
    }
   ],
   "source": [
    "xs = np.array(act_adv_sci['Production Budget'], dtype=np.float64)\n",
    "ys = np.array(act_adv_sci['Profit'], dtype=np.float64)\n",
    "\n",
    "m, b = best_fit_slope_and_intercept(xs,ys)\n",
    "regression_line = [(m*x)+b for x in xs]\n",
    "\n",
    "fig = plt.figure(figsize=(15, 10))\n",
    "ax = plt.subplot()\n",
    "plt.plot(xs,regression_line, 'r') \n",
    "ax.set_title('Production Budget Vs Profit')\n",
    "ax.set_xlabel('Production Budget (Tens of Millions)')\n",
    "ax.set_ylabel('Profit (Hundreds of Millions)')\n",
    " \n",
    "x = act_adv_sci['Production Budget']\n",
    "y = act_adv_sci['Profit']\n",
    " \n",
    "ax.scatter(x, y)\n",
    "plt.show()\n",
    "correlation(x,y)"
   ]
  },
  {
   "cell_type": "code",
   "execution_count": 34,
   "metadata": {},
   "outputs": [
    {
     "data": {
      "image/png": "[encoded data removed]",
      "text/plain": [
       "<Figure size 432x288 with 1 Axes>"
      ]
     },
     "metadata": {
      "needs_background": "light"
     },
     "output_type": "display_data"
    }
   ],
   "source": [
    "#creating a whisker plot to see production budget distribution \n",
    "fig6, ax6 = plt.subplots()\n",
    "ax6.set_title('Production Budget Distribution')\n",
    "ax6.boxplot(act_adv_sci['Production Budget'], vert=False, whis=0.75)\n",
    "fig.savefig('Box_Whisker.png')\n"
   ]
  },
  {
   "cell_type": "code",
   "execution_count": 35,
   "metadata": {},
   "outputs": [],
   "source": [
    "#creating a new column to analyze profit percentage \n",
    "act_adv_sci['Profit Percentage'] = act_adv_sci['Profit']/act_adv_sci['Production Budget']*100\n"
   ]
  },
  {
   "cell_type": "code",
   "execution_count": 36,
   "metadata": {},
   "outputs": [
    {
     "data": {
      "text/html": [
       "<div>\n",
       "<style scoped>\n",
       "    .dataframe tbody tr th:only-of-type {\n",
       "        vertical-align: middle;\n",
       "    }\n",
       "\n",
       "    .dataframe tbody tr th {\n",
       "        vertical-align: top;\n",
       "    }\n",
       "\n",
       "    .dataframe thead th {\n",
       "        text-align: right;\n",
       "    }\n",
       "</style>\n",
       "<table border=\"1\" class=\"dataframe\">\n",
       "  <thead>\n",
       "    <tr style=\"text-align: right;\">\n",
       "      <th></th>\n",
       "      <th>Title</th>\n",
       "      <th>Profit Percentage</th>\n",
       "    </tr>\n",
       "  </thead>\n",
       "  <tbody>\n",
       "    <tr>\n",
       "      <td>0</td>\n",
       "      <td>The Hunger Games</td>\n",
       "      <td>747.404224</td>\n",
       "    </tr>\n",
       "    <tr>\n",
       "      <td>1</td>\n",
       "      <td>Jurassic World: Fallen Kingdom</td>\n",
       "      <td>668.101646</td>\n",
       "    </tr>\n",
       "    <tr>\n",
       "      <td>2</td>\n",
       "      <td>Jurassic World</td>\n",
       "      <td>666.909239</td>\n",
       "    </tr>\n",
       "    <tr>\n",
       "      <td>3</td>\n",
       "      <td>Avengers: Infinity War</td>\n",
       "      <td>582.711400</td>\n",
       "    </tr>\n",
       "    <tr>\n",
       "      <td>4</td>\n",
       "      <td>The Avengers</td>\n",
       "      <td>574.638176</td>\n",
       "    </tr>\n",
       "    <tr>\n",
       "      <td>5</td>\n",
       "      <td>Black Panther</td>\n",
       "      <td>574.129112</td>\n",
       "    </tr>\n",
       "    <tr>\n",
       "      <td>6</td>\n",
       "      <td>The Hunger Games: Catching Fire</td>\n",
       "      <td>565.283113</td>\n",
       "    </tr>\n",
       "    <tr>\n",
       "      <td>7</td>\n",
       "      <td>Captain Marvel</td>\n",
       "      <td>541.749457</td>\n",
       "    </tr>\n",
       "    <tr>\n",
       "      <td>8</td>\n",
       "      <td>The Hunger Games: Mockingjay - Part 1</td>\n",
       "      <td>513.260105</td>\n",
       "    </tr>\n",
       "    <tr>\n",
       "      <td>9</td>\n",
       "      <td>Iron Man 3</td>\n",
       "      <td>507.696136</td>\n",
       "    </tr>\n",
       "    <tr>\n",
       "      <td>10</td>\n",
       "      <td>Transformers: Dark of the Moon</td>\n",
       "      <td>476.302843</td>\n",
       "    </tr>\n",
       "    <tr>\n",
       "      <td>11</td>\n",
       "      <td>Transformers: Age of Extinction</td>\n",
       "      <td>425.732893</td>\n",
       "    </tr>\n",
       "    <tr>\n",
       "      <td>12</td>\n",
       "      <td>Rogue One: A Star Wars Story</td>\n",
       "      <td>424.551428</td>\n",
       "    </tr>\n",
       "    <tr>\n",
       "      <td>13</td>\n",
       "      <td>Inception</td>\n",
       "      <td>422.202901</td>\n",
       "    </tr>\n",
       "    <tr>\n",
       "      <td>14</td>\n",
       "      <td>Spider-Man: Homecoming</td>\n",
       "      <td>402.952200</td>\n",
       "    </tr>\n",
       "    <tr>\n",
       "      <td>15</td>\n",
       "      <td>Bumblebee</td>\n",
       "      <td>356.074107</td>\n",
       "    </tr>\n",
       "    <tr>\n",
       "      <td>16</td>\n",
       "      <td>Captain America: Civil War</td>\n",
       "      <td>356.027765</td>\n",
       "    </tr>\n",
       "    <tr>\n",
       "      <td>17</td>\n",
       "      <td>Avengers: Age of Ultron</td>\n",
       "      <td>324.384139</td>\n",
       "    </tr>\n",
       "    <tr>\n",
       "      <td>18</td>\n",
       "      <td>Captain America: The Winter Soldier</td>\n",
       "      <td>320.236405</td>\n",
       "    </tr>\n",
       "    <tr>\n",
       "      <td>19</td>\n",
       "      <td>The Hunger Games: Mockingjay - Part 2</td>\n",
       "      <td>305.616742</td>\n",
       "    </tr>\n",
       "    <tr>\n",
       "      <td>20</td>\n",
       "      <td>Ready Player One</td>\n",
       "      <td>286.193424</td>\n",
       "    </tr>\n",
       "    <tr>\n",
       "      <td>21</td>\n",
       "      <td>X-Men: Days of Future Past</td>\n",
       "      <td>273.931388</td>\n",
       "    </tr>\n",
       "    <tr>\n",
       "      <td>22</td>\n",
       "      <td>Iron Man 2</td>\n",
       "      <td>265.386111</td>\n",
       "    </tr>\n",
       "    <tr>\n",
       "      <td>23</td>\n",
       "      <td>The Wolverine</td>\n",
       "      <td>262.136393</td>\n",
       "    </tr>\n",
       "    <tr>\n",
       "      <td>24</td>\n",
       "      <td>Rampage</td>\n",
       "      <td>256.713567</td>\n",
       "    </tr>\n",
       "    <tr>\n",
       "      <td>25</td>\n",
       "      <td>The Amazing Spider-Man 2</td>\n",
       "      <td>254.498168</td>\n",
       "    </tr>\n",
       "    <tr>\n",
       "      <td>26</td>\n",
       "      <td>The Amazing Spider-Man</td>\n",
       "      <td>244.495576</td>\n",
       "    </tr>\n",
       "    <tr>\n",
       "      <td>27</td>\n",
       "      <td>Godzilla</td>\n",
       "      <td>230.672543</td>\n",
       "    </tr>\n",
       "    <tr>\n",
       "      <td>28</td>\n",
       "      <td>Predators</td>\n",
       "      <td>218.085972</td>\n",
       "    </tr>\n",
       "    <tr>\n",
       "      <td>29</td>\n",
       "      <td>X-Men: Apocalypse</td>\n",
       "      <td>204.796374</td>\n",
       "    </tr>\n",
       "    <tr>\n",
       "      <td>30</td>\n",
       "      <td>Man of Steel</td>\n",
       "      <td>196.888675</td>\n",
       "    </tr>\n",
       "    <tr>\n",
       "      <td>31</td>\n",
       "      <td>Transformers: The Last Knight</td>\n",
       "      <td>177.831032</td>\n",
       "    </tr>\n",
       "    <tr>\n",
       "      <td>32</td>\n",
       "      <td>G.I. Joe: Retaliation</td>\n",
       "      <td>168.386218</td>\n",
       "    </tr>\n",
       "    <tr>\n",
       "      <td>33</td>\n",
       "      <td>Captain America: The First Avenger</td>\n",
       "      <td>164.692697</td>\n",
       "    </tr>\n",
       "    <tr>\n",
       "      <td>34</td>\n",
       "      <td>Riddick</td>\n",
       "      <td>149.378311</td>\n",
       "    </tr>\n",
       "    <tr>\n",
       "      <td>35</td>\n",
       "      <td>Mad Max: Fury Road</td>\n",
       "      <td>146.732013</td>\n",
       "    </tr>\n",
       "    <tr>\n",
       "      <td>36</td>\n",
       "      <td>Star Trek Into Darkness</td>\n",
       "      <td>145.990307</td>\n",
       "    </tr>\n",
       "    <tr>\n",
       "      <td>37</td>\n",
       "      <td>Oblivion</td>\n",
       "      <td>139.930527</td>\n",
       "    </tr>\n",
       "    <tr>\n",
       "      <td>38</td>\n",
       "      <td>Alita: Battle Angel</td>\n",
       "      <td>137.044727</td>\n",
       "    </tr>\n",
       "    <tr>\n",
       "      <td>39</td>\n",
       "      <td>Independence Day: Resurgence</td>\n",
       "      <td>132.829954</td>\n",
       "    </tr>\n",
       "    <tr>\n",
       "      <td>40</td>\n",
       "      <td>X-Men: First Class</td>\n",
       "      <td>122.130191</td>\n",
       "    </tr>\n",
       "    <tr>\n",
       "      <td>41</td>\n",
       "      <td>Pacific Rim</td>\n",
       "      <td>116.317319</td>\n",
       "    </tr>\n",
       "  </tbody>\n",
       "</table>\n",
       "</div>"
      ],
      "text/plain": [
       "                                    Title  Profit Percentage\n",
       "0   The Hunger Games                       747.404224       \n",
       "1   Jurassic World: Fallen Kingdom         668.101646       \n",
       "2   Jurassic World                         666.909239       \n",
       "3   Avengers: Infinity War                 582.711400       \n",
       "4   The Avengers                           574.638176       \n",
       "5   Black Panther                          574.129112       \n",
       "6   The Hunger Games: Catching Fire        565.283113       \n",
       "7   Captain Marvel                         541.749457       \n",
       "8   The Hunger Games: Mockingjay - Part 1  513.260105       \n",
       "9   Iron Man 3                             507.696136       \n",
       "10  Transformers: Dark of the Moon         476.302843       \n",
       "11  Transformers: Age of Extinction        425.732893       \n",
       "12  Rogue One: A Star Wars Story           424.551428       \n",
       "13  Inception                              422.202901       \n",
       "14  Spider-Man: Homecoming                 402.952200       \n",
       "15  Bumblebee                              356.074107       \n",
       "16  Captain America: Civil War             356.027765       \n",
       "17  Avengers: Age of Ultron                324.384139       \n",
       "18  Captain America: The Winter Soldier    320.236405       \n",
       "19  The Hunger Games: Mockingjay - Part 2  305.616742       \n",
       "20  Ready Player One                       286.193424       \n",
       "21  X-Men: Days of Future Past             273.931388       \n",
       "22  Iron Man 2                             265.386111       \n",
       "23  The Wolverine                          262.136393       \n",
       "24  Rampage                                256.713567       \n",
       "25  The Amazing Spider-Man 2               254.498168       \n",
       "26  The Amazing Spider-Man                 244.495576       \n",
       "27  Godzilla                               230.672543       \n",
       "28  Predators                              218.085972       \n",
       "29  X-Men: Apocalypse                      204.796374       \n",
       "30  Man of Steel                           196.888675       \n",
       "31  Transformers: The Last Knight          177.831032       \n",
       "32  G.I. Joe: Retaliation                  168.386218       \n",
       "33  Captain America: The First Avenger     164.692697       \n",
       "34  Riddick                                149.378311       \n",
       "35  Mad Max: Fury Road                     146.732013       \n",
       "36  Star Trek Into Darkness                145.990307       \n",
       "37  Oblivion                               139.930527       \n",
       "38  Alita: Battle Angel                    137.044727       \n",
       "39  Independence Day: Resurgence           132.829954       \n",
       "40  X-Men: First Class                     122.130191       \n",
       "41  Pacific Rim                            116.317319       "
      ]
     },
     "execution_count": 36,
     "metadata": {},
     "output_type": "execute_result"
    }
   ],
   "source": [
    "#creating a new dataframe to show action, adventure, sci-fi movies that make over 100% profit for further analysis\n",
    "high_profit_movies = pd.DataFrame({'Title':act_adv_sci['Title'], 'Profit Percentage':act_adv_sci['Profit Percentage']})\n",
    "high_profit_movies.sort_values(by=['Profit Percentage'], ascending = False, inplace = True)\n",
    "high_profit_movies = high_profit_movies.reset_index()\n",
    "high_profit_movies = high_profit_movies.drop(columns = 'index')\n",
    "high_profit_movies = high_profit_movies.loc[0:41]\n",
    "high_profit_movies"
   ]
  }
 ],
 "metadata": {
  "kernelspec": {
   "display_name": "Python 3",
   "language": "python",
   "name": "python3"
  },
  "language_info": {
   "codemirror_mode": {
    "name": "ipython",
    "version": 3
   },
   "file_extension": ".py",
   "mimetype": "text/x-python",
   "name": "python",
   "nbconvert_exporter": "python",
   "pygments_lexer": "ipython3",
   "version": "3.7.4"
  }
 },
 "nbformat": 4,
 "nbformat_minor": 4
}
